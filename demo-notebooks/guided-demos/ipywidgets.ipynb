{
 "cells": [
  {
   "cell_type": "markdown",
   "id": "8d4a42f6",
   "metadata": {},
   "source": [
    "In this notebook, we will go through the basics of using the SDK to:\n",
    " - Spin up a Ray cluster with our desired resources\n",
    " - View the status and specs of our Ray cluster\n",
    " - Take down the Ray cluster when finished"
   ]
  },
  {
   "cell_type": "code",
   "execution_count": 10,
   "id": "301094f1",
   "metadata": {},
   "outputs": [
    {
     "name": "stdout",
     "output_type": "stream",
     "text": [
      "Found existing installation: codeflare-sdk 0.0.0.dev0\n",
      "Uninstalling codeflare-sdk-0.0.0.dev0:\n",
      "  Successfully uninstalled codeflare-sdk-0.0.0.dev0\n",
      "Note: you may need to restart the kernel to use updated packages.\n",
      "Defaulting to user installation because normal site-packages is not writeable\n",
      "Processing /home/christianzaccaria/Documents/GitHub/codeflare-sdk/dist/codeflare_sdk-0.0.0.dev0-py3-none-any.whl\n",
      "Requirement already satisfied: cryptography==40.0.2 in /home/christianzaccaria/.local/lib/python3.9/site-packages (from codeflare-sdk==0.0.0.dev0) (40.0.2)\n",
      "Requirement already satisfied: executing==1.2.0 in /home/christianzaccaria/.local/lib/python3.9/site-packages (from codeflare-sdk==0.0.0.dev0) (1.2.0)\n",
      "Requirement already satisfied: ipywidgets==8.1.2 in /home/christianzaccaria/.local/lib/python3.9/site-packages (from codeflare-sdk==0.0.0.dev0) (8.1.2)\n",
      "Requirement already satisfied: kubernetes<27,>=25.3.0 in /home/christianzaccaria/.local/lib/python3.9/site-packages (from codeflare-sdk==0.0.0.dev0) (26.1.0)\n",
      "Requirement already satisfied: openshift-client==1.0.18 in /home/christianzaccaria/.local/lib/python3.9/site-packages (from codeflare-sdk==0.0.0.dev0) (1.0.18)\n",
      "Requirement already satisfied: pydantic<2 in /home/christianzaccaria/.local/lib/python3.9/site-packages (from codeflare-sdk==0.0.0.dev0) (1.10.14)\n",
      "Requirement already satisfied: ray==2.23.0 in /home/christianzaccaria/.local/lib/python3.9/site-packages (from ray[data,default]==2.23.0->codeflare-sdk==0.0.0.dev0) (2.23.0)\n",
      "Requirement already satisfied: rich<13.0,>=12.5 in /home/christianzaccaria/.local/lib/python3.9/site-packages (from codeflare-sdk==0.0.0.dev0) (12.6.0)\n",
      "Requirement already satisfied: setuptools<=73.0.0 in /home/christianzaccaria/.local/lib/python3.9/site-packages (from codeflare-sdk==0.0.0.dev0) (69.1.1)\n",
      "Requirement already satisfied: cffi>=1.12 in /home/christianzaccaria/.local/lib/python3.9/site-packages (from cryptography==40.0.2->codeflare-sdk==0.0.0.dev0) (1.16.0)\n",
      "Requirement already satisfied: comm>=0.1.3 in /home/christianzaccaria/.local/lib/python3.9/site-packages (from ipywidgets==8.1.2->codeflare-sdk==0.0.0.dev0) (0.2.0)\n",
      "Requirement already satisfied: ipython>=6.1.0 in /home/christianzaccaria/.local/lib/python3.9/site-packages (from ipywidgets==8.1.2->codeflare-sdk==0.0.0.dev0) (8.18.1)\n",
      "Requirement already satisfied: traitlets>=4.3.1 in /home/christianzaccaria/.local/lib/python3.9/site-packages (from ipywidgets==8.1.2->codeflare-sdk==0.0.0.dev0) (5.14.0)\n",
      "Requirement already satisfied: widgetsnbextension~=4.0.10 in /home/christianzaccaria/.local/lib/python3.9/site-packages (from ipywidgets==8.1.2->codeflare-sdk==0.0.0.dev0) (4.0.11)\n",
      "Requirement already satisfied: jupyterlab-widgets~=3.0.10 in /home/christianzaccaria/.local/lib/python3.9/site-packages (from ipywidgets==8.1.2->codeflare-sdk==0.0.0.dev0) (3.0.11)\n",
      "Requirement already satisfied: six in /home/christianzaccaria/.local/lib/python3.9/site-packages (from openshift-client==1.0.18->codeflare-sdk==0.0.0.dev0) (1.16.0)\n",
      "Requirement already satisfied: pyyaml in /home/christianzaccaria/.local/lib/python3.9/site-packages (from openshift-client==1.0.18->codeflare-sdk==0.0.0.dev0) (6.0.1)\n",
      "Requirement already satisfied: paramiko in /home/christianzaccaria/.local/lib/python3.9/site-packages (from openshift-client==1.0.18->codeflare-sdk==0.0.0.dev0) (3.4.0)\n",
      "Requirement already satisfied: click>=7.0 in /home/christianzaccaria/.local/lib/python3.9/site-packages (from ray==2.23.0->ray[data,default]==2.23.0->codeflare-sdk==0.0.0.dev0) (8.1.7)\n",
      "Requirement already satisfied: filelock in /home/christianzaccaria/.local/lib/python3.9/site-packages (from ray==2.23.0->ray[data,default]==2.23.0->codeflare-sdk==0.0.0.dev0) (3.13.1)\n",
      "Requirement already satisfied: jsonschema in /home/christianzaccaria/.local/lib/python3.9/site-packages (from ray==2.23.0->ray[data,default]==2.23.0->codeflare-sdk==0.0.0.dev0) (4.21.1)\n",
      "Requirement already satisfied: msgpack<2.0.0,>=1.0.0 in /home/christianzaccaria/.local/lib/python3.9/site-packages (from ray==2.23.0->ray[data,default]==2.23.0->codeflare-sdk==0.0.0.dev0) (1.0.8)\n",
      "Requirement already satisfied: packaging in /home/christianzaccaria/.local/lib/python3.9/site-packages (from ray==2.23.0->ray[data,default]==2.23.0->codeflare-sdk==0.0.0.dev0) (23.2)\n",
      "Requirement already satisfied: protobuf!=3.19.5,>=3.15.3 in /home/christianzaccaria/.local/lib/python3.9/site-packages (from ray==2.23.0->ray[data,default]==2.23.0->codeflare-sdk==0.0.0.dev0) (4.25.3)\n",
      "Requirement already satisfied: aiosignal in /home/christianzaccaria/.local/lib/python3.9/site-packages (from ray==2.23.0->ray[data,default]==2.23.0->codeflare-sdk==0.0.0.dev0) (1.3.1)\n",
      "Requirement already satisfied: frozenlist in /home/christianzaccaria/.local/lib/python3.9/site-packages (from ray==2.23.0->ray[data,default]==2.23.0->codeflare-sdk==0.0.0.dev0) (1.4.1)\n",
      "Requirement already satisfied: requests in /home/christianzaccaria/.local/lib/python3.9/site-packages (from ray==2.23.0->ray[data,default]==2.23.0->codeflare-sdk==0.0.0.dev0) (2.31.0)\n",
      "Requirement already satisfied: numpy>=1.20 in /home/christianzaccaria/.local/lib/python3.9/site-packages (from ray[data,default]==2.23.0->codeflare-sdk==0.0.0.dev0) (1.26.4)\n",
      "Requirement already satisfied: pandas>=1.3 in /home/christianzaccaria/.local/lib/python3.9/site-packages (from ray[data,default]==2.23.0->codeflare-sdk==0.0.0.dev0) (2.2.1)\n",
      "Requirement already satisfied: pyarrow>=6.0.1 in /home/christianzaccaria/.local/lib/python3.9/site-packages (from ray[data,default]==2.23.0->codeflare-sdk==0.0.0.dev0) (15.0.0)\n",
      "Requirement already satisfied: fsspec in /home/christianzaccaria/.local/lib/python3.9/site-packages (from ray[data,default]==2.23.0->codeflare-sdk==0.0.0.dev0) (2024.2.0)\n",
      "Requirement already satisfied: aiohttp>=3.7 in /home/christianzaccaria/.local/lib/python3.9/site-packages (from ray[data,default]==2.23.0->codeflare-sdk==0.0.0.dev0) (3.9.3)\n",
      "Requirement already satisfied: aiohttp-cors in /home/christianzaccaria/.local/lib/python3.9/site-packages (from ray[data,default]==2.23.0->codeflare-sdk==0.0.0.dev0) (0.7.0)\n",
      "Requirement already satisfied: colorful in /home/christianzaccaria/.local/lib/python3.9/site-packages (from ray[data,default]==2.23.0->codeflare-sdk==0.0.0.dev0) (0.5.6)\n",
      "Requirement already satisfied: py-spy>=0.2.0 in /home/christianzaccaria/.local/lib/python3.9/site-packages (from ray[data,default]==2.23.0->codeflare-sdk==0.0.0.dev0) (0.3.14)\n",
      "Requirement already satisfied: opencensus in /home/christianzaccaria/.local/lib/python3.9/site-packages (from ray[data,default]==2.23.0->codeflare-sdk==0.0.0.dev0) (0.11.4)\n",
      "Requirement already satisfied: prometheus-client>=0.7.1 in /home/christianzaccaria/.local/lib/python3.9/site-packages (from ray[data,default]==2.23.0->codeflare-sdk==0.0.0.dev0) (0.20.0)\n",
      "Requirement already satisfied: smart-open in /home/christianzaccaria/.local/lib/python3.9/site-packages (from ray[data,default]==2.23.0->codeflare-sdk==0.0.0.dev0) (7.0.1)\n",
      "Requirement already satisfied: virtualenv!=20.21.1,>=20.0.24 in /home/christianzaccaria/.local/lib/python3.9/site-packages (from ray[data,default]==2.23.0->codeflare-sdk==0.0.0.dev0) (20.21.0)\n",
      "Requirement already satisfied: grpcio>=1.32.0 in /home/christianzaccaria/.local/lib/python3.9/site-packages (from ray[data,default]==2.23.0->codeflare-sdk==0.0.0.dev0) (1.62.0)\n",
      "Requirement already satisfied: memray in /home/christianzaccaria/.local/lib/python3.9/site-packages (from ray[data,default]==2.23.0->codeflare-sdk==0.0.0.dev0) (1.10.0)\n",
      "Requirement already satisfied: certifi>=14.05.14 in /home/christianzaccaria/.local/lib/python3.9/site-packages (from kubernetes<27,>=25.3.0->codeflare-sdk==0.0.0.dev0) (2024.2.2)\n",
      "Requirement already satisfied: python-dateutil>=2.5.3 in /home/christianzaccaria/.local/lib/python3.9/site-packages (from kubernetes<27,>=25.3.0->codeflare-sdk==0.0.0.dev0) (2.9.0.post0)\n",
      "Requirement already satisfied: google-auth>=1.0.1 in /home/christianzaccaria/.local/lib/python3.9/site-packages (from kubernetes<27,>=25.3.0->codeflare-sdk==0.0.0.dev0) (2.28.1)\n",
      "Requirement already satisfied: websocket-client!=0.40.0,!=0.41.*,!=0.42.*,>=0.32.0 in /home/christianzaccaria/.local/lib/python3.9/site-packages (from kubernetes<27,>=25.3.0->codeflare-sdk==0.0.0.dev0) (1.7.0)\n",
      "Requirement already satisfied: requests-oauthlib in /home/christianzaccaria/.local/lib/python3.9/site-packages (from kubernetes<27,>=25.3.0->codeflare-sdk==0.0.0.dev0) (1.3.1)\n",
      "Requirement already satisfied: urllib3>=1.24.2 in /home/christianzaccaria/.local/lib/python3.9/site-packages (from kubernetes<27,>=25.3.0->codeflare-sdk==0.0.0.dev0) (1.26.18)\n",
      "Requirement already satisfied: typing-extensions>=4.2.0 in /home/christianzaccaria/.local/lib/python3.9/site-packages (from pydantic<2->codeflare-sdk==0.0.0.dev0) (4.10.0)\n",
      "Requirement already satisfied: commonmark<0.10.0,>=0.9.0 in /home/christianzaccaria/.local/lib/python3.9/site-packages (from rich<13.0,>=12.5->codeflare-sdk==0.0.0.dev0) (0.9.1)\n",
      "Requirement already satisfied: pygments<3.0.0,>=2.6.0 in /home/christianzaccaria/.local/lib/python3.9/site-packages (from rich<13.0,>=12.5->codeflare-sdk==0.0.0.dev0) (2.17.2)\n",
      "Requirement already satisfied: attrs>=17.3.0 in /home/christianzaccaria/.local/lib/python3.9/site-packages (from aiohttp>=3.7->ray[data,default]==2.23.0->codeflare-sdk==0.0.0.dev0) (23.2.0)\n",
      "Requirement already satisfied: multidict<7.0,>=4.5 in /home/christianzaccaria/.local/lib/python3.9/site-packages (from aiohttp>=3.7->ray[data,default]==2.23.0->codeflare-sdk==0.0.0.dev0) (6.0.5)\n",
      "Requirement already satisfied: yarl<2.0,>=1.0 in /home/christianzaccaria/.local/lib/python3.9/site-packages (from aiohttp>=3.7->ray[data,default]==2.23.0->codeflare-sdk==0.0.0.dev0) (1.9.4)\n",
      "Requirement already satisfied: async-timeout<5.0,>=4.0 in /home/christianzaccaria/.local/lib/python3.9/site-packages (from aiohttp>=3.7->ray[data,default]==2.23.0->codeflare-sdk==0.0.0.dev0) (4.0.3)\n",
      "Requirement already satisfied: pycparser in /home/christianzaccaria/.local/lib/python3.9/site-packages (from cffi>=1.12->cryptography==40.0.2->codeflare-sdk==0.0.0.dev0) (2.21)\n",
      "Requirement already satisfied: cachetools<6.0,>=2.0.0 in /home/christianzaccaria/.local/lib/python3.9/site-packages (from google-auth>=1.0.1->kubernetes<27,>=25.3.0->codeflare-sdk==0.0.0.dev0) (5.3.3)\n",
      "Requirement already satisfied: pyasn1-modules>=0.2.1 in /home/christianzaccaria/.local/lib/python3.9/site-packages (from google-auth>=1.0.1->kubernetes<27,>=25.3.0->codeflare-sdk==0.0.0.dev0) (0.3.0)\n",
      "Requirement already satisfied: rsa<5,>=3.1.4 in /home/christianzaccaria/.local/lib/python3.9/site-packages (from google-auth>=1.0.1->kubernetes<27,>=25.3.0->codeflare-sdk==0.0.0.dev0) (4.9)\n",
      "Requirement already satisfied: decorator in /home/christianzaccaria/.local/lib/python3.9/site-packages (from ipython>=6.1.0->ipywidgets==8.1.2->codeflare-sdk==0.0.0.dev0) (5.1.1)\n",
      "Requirement already satisfied: jedi>=0.16 in /home/christianzaccaria/.local/lib/python3.9/site-packages (from ipython>=6.1.0->ipywidgets==8.1.2->codeflare-sdk==0.0.0.dev0) (0.19.1)\n",
      "Requirement already satisfied: matplotlib-inline in /home/christianzaccaria/.local/lib/python3.9/site-packages (from ipython>=6.1.0->ipywidgets==8.1.2->codeflare-sdk==0.0.0.dev0) (0.1.6)\n",
      "Requirement already satisfied: prompt-toolkit<3.1.0,>=3.0.41 in /home/christianzaccaria/.local/lib/python3.9/site-packages (from ipython>=6.1.0->ipywidgets==8.1.2->codeflare-sdk==0.0.0.dev0) (3.0.41)\n",
      "Requirement already satisfied: stack-data in /home/christianzaccaria/.local/lib/python3.9/site-packages (from ipython>=6.1.0->ipywidgets==8.1.2->codeflare-sdk==0.0.0.dev0) (0.6.3)\n",
      "Requirement already satisfied: exceptiongroup in /home/christianzaccaria/.local/lib/python3.9/site-packages (from ipython>=6.1.0->ipywidgets==8.1.2->codeflare-sdk==0.0.0.dev0) (1.1.3)\n",
      "Requirement already satisfied: pexpect>4.3 in /home/christianzaccaria/.local/lib/python3.9/site-packages (from ipython>=6.1.0->ipywidgets==8.1.2->codeflare-sdk==0.0.0.dev0) (4.8.0)\n",
      "Requirement already satisfied: pytz>=2020.1 in /home/christianzaccaria/.local/lib/python3.9/site-packages (from pandas>=1.3->ray[data,default]==2.23.0->codeflare-sdk==0.0.0.dev0) (2024.1)\n",
      "Requirement already satisfied: tzdata>=2022.7 in /home/christianzaccaria/.local/lib/python3.9/site-packages (from pandas>=1.3->ray[data,default]==2.23.0->codeflare-sdk==0.0.0.dev0) (2024.1)\n",
      "Requirement already satisfied: distlib<1,>=0.3.6 in /home/christianzaccaria/.local/lib/python3.9/site-packages (from virtualenv!=20.21.1,>=20.0.24->ray[data,default]==2.23.0->codeflare-sdk==0.0.0.dev0) (0.3.8)\n",
      "Requirement already satisfied: platformdirs<4,>=2.4 in /home/christianzaccaria/.local/lib/python3.9/site-packages (from virtualenv!=20.21.1,>=20.0.24->ray[data,default]==2.23.0->codeflare-sdk==0.0.0.dev0) (3.11.0)\n",
      "Requirement already satisfied: jsonschema-specifications>=2023.03.6 in /home/christianzaccaria/.local/lib/python3.9/site-packages (from jsonschema->ray==2.23.0->ray[data,default]==2.23.0->codeflare-sdk==0.0.0.dev0) (2023.12.1)\n",
      "Requirement already satisfied: referencing>=0.28.4 in /home/christianzaccaria/.local/lib/python3.9/site-packages (from jsonschema->ray==2.23.0->ray[data,default]==2.23.0->codeflare-sdk==0.0.0.dev0) (0.33.0)\n",
      "Requirement already satisfied: rpds-py>=0.7.1 in /home/christianzaccaria/.local/lib/python3.9/site-packages (from jsonschema->ray==2.23.0->ray[data,default]==2.23.0->codeflare-sdk==0.0.0.dev0) (0.18.0)\n",
      "Requirement already satisfied: jinja2>=2.9 in /home/christianzaccaria/.local/lib/python3.9/site-packages (from memray->ray[data,default]==2.23.0->codeflare-sdk==0.0.0.dev0) (3.1.3)\n",
      "Requirement already satisfied: opencensus-context>=0.1.3 in /home/christianzaccaria/.local/lib/python3.9/site-packages (from opencensus->ray[data,default]==2.23.0->codeflare-sdk==0.0.0.dev0) (0.1.3)\n",
      "Requirement already satisfied: google-api-core<3.0.0,>=1.0.0 in /home/christianzaccaria/.local/lib/python3.9/site-packages (from opencensus->ray[data,default]==2.23.0->codeflare-sdk==0.0.0.dev0) (2.17.1)\n",
      "Requirement already satisfied: bcrypt>=3.2 in /home/christianzaccaria/.local/lib/python3.9/site-packages (from paramiko->openshift-client==1.0.18->codeflare-sdk==0.0.0.dev0) (4.1.2)\n",
      "Requirement already satisfied: pynacl>=1.5 in /home/christianzaccaria/.local/lib/python3.9/site-packages (from paramiko->openshift-client==1.0.18->codeflare-sdk==0.0.0.dev0) (1.5.0)\n",
      "Requirement already satisfied: charset-normalizer<4,>=2 in /home/christianzaccaria/.local/lib/python3.9/site-packages (from requests->ray==2.23.0->ray[data,default]==2.23.0->codeflare-sdk==0.0.0.dev0) (3.3.2)\n",
      "Requirement already satisfied: idna<4,>=2.5 in /home/christianzaccaria/.local/lib/python3.9/site-packages (from requests->ray==2.23.0->ray[data,default]==2.23.0->codeflare-sdk==0.0.0.dev0) (3.6)\n",
      "Requirement already satisfied: oauthlib>=3.0.0 in /home/christianzaccaria/.local/lib/python3.9/site-packages (from requests-oauthlib->kubernetes<27,>=25.3.0->codeflare-sdk==0.0.0.dev0) (3.2.2)\n",
      "Requirement already satisfied: wrapt in /home/christianzaccaria/.local/lib/python3.9/site-packages (from smart-open->ray[data,default]==2.23.0->codeflare-sdk==0.0.0.dev0) (1.16.0)\n",
      "Requirement already satisfied: googleapis-common-protos<2.0.dev0,>=1.56.2 in /home/christianzaccaria/.local/lib/python3.9/site-packages (from google-api-core<3.0.0,>=1.0.0->opencensus->ray[data,default]==2.23.0->codeflare-sdk==0.0.0.dev0) (1.62.0)\n",
      "Requirement already satisfied: parso<0.9.0,>=0.8.3 in /home/christianzaccaria/.local/lib/python3.9/site-packages (from jedi>=0.16->ipython>=6.1.0->ipywidgets==8.1.2->codeflare-sdk==0.0.0.dev0) (0.8.3)\n",
      "Requirement already satisfied: MarkupSafe>=2.0 in /home/christianzaccaria/.local/lib/python3.9/site-packages (from jinja2>=2.9->memray->ray[data,default]==2.23.0->codeflare-sdk==0.0.0.dev0) (2.1.5)\n",
      "Requirement already satisfied: ptyprocess>=0.5 in /home/christianzaccaria/.local/lib/python3.9/site-packages (from pexpect>4.3->ipython>=6.1.0->ipywidgets==8.1.2->codeflare-sdk==0.0.0.dev0) (0.7.0)\n",
      "Requirement already satisfied: wcwidth in /home/christianzaccaria/.local/lib/python3.9/site-packages (from prompt-toolkit<3.1.0,>=3.0.41->ipython>=6.1.0->ipywidgets==8.1.2->codeflare-sdk==0.0.0.dev0) (0.2.13)\n",
      "Requirement already satisfied: pyasn1<0.6.0,>=0.4.6 in /home/christianzaccaria/.local/lib/python3.9/site-packages (from pyasn1-modules>=0.2.1->google-auth>=1.0.1->kubernetes<27,>=25.3.0->codeflare-sdk==0.0.0.dev0) (0.5.1)\n",
      "Requirement already satisfied: asttokens>=2.1.0 in /home/christianzaccaria/.local/lib/python3.9/site-packages (from stack-data->ipython>=6.1.0->ipywidgets==8.1.2->codeflare-sdk==0.0.0.dev0) (2.4.1)\n",
      "Requirement already satisfied: pure-eval in /home/christianzaccaria/.local/lib/python3.9/site-packages (from stack-data->ipython>=6.1.0->ipywidgets==8.1.2->codeflare-sdk==0.0.0.dev0) (0.2.2)\n",
      "Installing collected packages: codeflare-sdk\n",
      "Successfully installed codeflare-sdk-0.0.0.dev0\n",
      "\n",
      "\u001b[1m[\u001b[0m\u001b[34;49mnotice\u001b[0m\u001b[1;39;49m]\u001b[0m\u001b[39;49m A new release of pip is available: \u001b[0m\u001b[31;49m23.3.1\u001b[0m\u001b[39;49m -> \u001b[0m\u001b[32;49m24.2\u001b[0m\n",
      "\u001b[1m[\u001b[0m\u001b[34;49mnotice\u001b[0m\u001b[1;39;49m]\u001b[0m\u001b[39;49m To update, run: \u001b[0m\u001b[32;49mpip install --upgrade pip\u001b[0m\n",
      "Note: you may need to restart the kernel to use updated packages.\n"
     ]
    }
   ],
   "source": [
    "%pip uninstall codeflare-sdk -y\n",
    "%pip install ../../dist/codeflare_sdk-0.0.0.dev0-py3-none-any.whl"
   ]
  },
  {
   "cell_type": "code",
   "execution_count": 1,
   "id": "b55bc3ea-4ce3-49bf-bb1f-e209de8ca47a",
   "metadata": {},
   "outputs": [],
   "source": [
    "# Import pieces from codeflare-sdk\\\n",
    "from codeflare_sdk import Cluster, ClusterConfiguration, TokenAuthentication, list_cluster_details"
   ]
  },
  {
   "cell_type": "code",
   "execution_count": 2,
   "id": "614daa0c",
   "metadata": {},
   "outputs": [
    {
     "data": {
      "text/plain": [
       "'Logged into https://api.chris-aisrhods.xb4x.p3.openshiftapps.com:443'"
      ]
     },
     "execution_count": 2,
     "metadata": {},
     "output_type": "execute_result"
    }
   ],
   "source": [
    "# Create authentication object for user permissions\n",
    "# IF unused, SDK will automatically check for default kubeconfig, then in-cluster config\n",
    "# KubeConfigFileAuthentication can also be used to specify kubeconfig path manually\n",
    "auth = TokenAuthentication(\n",
    "    token = \"sha256~pu4rVc-UrGDzHXIOX22BrV0pFLvjEcSZkZ6ECYKndhY\",\n",
    "    server = \"https://api.chris-aisrhods.xb4x.p3.openshiftapps.com:443\",\n",
    "    skip_tls=False\n",
    ")\n",
    "auth.login()"
   ]
  },
  {
   "cell_type": "markdown",
   "id": "bc27f84c",
   "metadata": {},
   "source": [
    "Here, we want to define our cluster by specifying the resources we require for our batch workload. Below, we define our cluster object (which generates a corresponding RayCluster).\n",
    "\n",
    "NOTE: We must specify the `image` which will be used in our RayCluster, we recommend you bring your own image which suits your purposes. \n",
    "The example here is a community image."
   ]
  },
  {
   "cell_type": "code",
   "execution_count": 26,
   "id": "0f4bc870-091f-4e11-9642-cba145710159",
   "metadata": {},
   "outputs": [
    {
     "name": "stdout",
     "output_type": "stream",
     "text": [
      "Yaml resources loaded for raytesta122\n"
     ]
    }
   ],
   "source": [
    "# Create and configure our cluster object\n",
    "# The SDK will try to find the name of your default local queue based on the annotation \"kueue.x-k8s.io/default-queue\": \"true\" unless you specify the local queue manually below\n",
    "cluster = Cluster(ClusterConfiguration(\n",
    "    name='raytesta122',\n",
    "    namespace=\"default\",\n",
    "    head_cpus='500m',\n",
    "    head_memory=2,\n",
    "    head_extended_resource_requests={'nvidia.com/gpu':2}, # For GPU enabled workloads set the head_extended_resource_requests and worker_extended_resource_requests\n",
    "    worker_extended_resource_requests={'nvidia.com/gpu':0},\n",
    "    num_workers=2,\n",
    "    worker_cpu_requests='250m',\n",
    "    worker_cpu_limits=1,\n",
    "    worker_memory_requests=4,\n",
    "    worker_memory_limits=4,\n",
    "    # image=\"\", # Optional Field \n",
    "    write_to_file=False, # When enabled Ray Cluster yaml files are written to /HOME/.codeflare/resources \n",
    "    # local_queue=\"local-queue-name\" # Specify the local queue manually\n",
    "))"
   ]
  },
  {
   "cell_type": "markdown",
   "id": "12eef53c",
   "metadata": {},
   "source": [
    "Next, we want to bring our cluster up, so we call the `up()` function below to submit our Ray Cluster onto the queue, and begin the process of obtaining our resource cluster."
   ]
  },
  {
   "cell_type": "code",
   "execution_count": 27,
   "id": "f0884bbc-c224-4ca0-98a0-02dfa09c2200",
   "metadata": {},
   "outputs": [],
   "source": [
    "# Bring up the cluster\n",
    "cluster.up()"
   ]
  },
  {
   "cell_type": "code",
   "execution_count": 3,
   "id": "24136d1f",
   "metadata": {},
   "outputs": [
    {
     "data": {
      "application/vnd.jupyter.widget-view+json": {
       "model_id": "6cd1ac11ee7248cc9f76b8b5349eabb1",
       "version_major": 2,
       "version_minor": 0
      },
      "text/plain": [
       "VBox(children=(ToggleButtons(description='Select an existing cluster:', options=('raytesta1', 'raytesta10', 'r…"
      ]
     },
     "metadata": {},
     "output_type": "display_data"
    },
    {
     "data": {
      "application/vnd.jupyter.widget-view+json": {
       "model_id": "b5f79fe4d91e405aa513cbf599b86eb6",
       "version_major": 2,
       "version_minor": 0
      },
      "text/plain": [
       "HBox(children=(Button(description='Delete Cluster', icon='trash', style=ButtonStyle()), Button(description='Vi…"
      ]
     },
     "metadata": {},
     "output_type": "display_data"
    },
    {
     "data": {
      "application/vnd.jupyter.widget-view+json": {
       "model_id": "4127f8292b064d1c935c9fc0dbe715f4",
       "version_major": 2,
       "version_minor": 0
      },
      "text/plain": [
       "Output()"
      ]
     },
     "metadata": {},
     "output_type": "display_data"
    }
   ],
   "source": [
    "list_cluster_details(\"default\")"
   ]
  },
  {
   "cell_type": "markdown",
   "id": "657ebdfb",
   "metadata": {},
   "source": [
    "Now, we want to check on the status of our resource cluster, and wait until it is finally ready for use."
   ]
  },
  {
   "cell_type": "code",
   "execution_count": null,
   "id": "24e612ff",
   "metadata": {},
   "outputs": [],
   "source": [
    "from codeflare_sdk import get_cluster\n",
    "get_cluster(\"raytest21\", \"default\")"
   ]
  },
  {
   "cell_type": "code",
   "execution_count": 14,
   "id": "995850b2",
   "metadata": {},
   "outputs": [
    {
     "data": {
      "text/html": [
       "<pre style=\"white-space:pre;overflow-x:auto;line-height:normal;font-family:Menlo,'DejaVu Sans Mono',consolas,'Courier New',monospace\"><span style=\"font-style: italic\">                    </span><span style=\"font-weight: bold; font-style: italic\"> 🚀 CodeFlare Cluster Details 🚀</span><span style=\"font-style: italic\">                     </span>\n",
       "<span style=\"font-weight: bold\">                                                                         </span>\n",
       " ╭─────────────────────────────────────────────────────────────────────╮ \n",
       " │   <span style=\"color: #c0c0c0; text-decoration-color: #c0c0c0; background-color: #008000; font-weight: bold\">Name</span>                                                              │ \n",
       " │   <span style=\"font-weight: bold; text-decoration: underline\">raytestmar2k</span>                                        Inactive ❌   │ \n",
       " │                                                                     │ \n",
       " │   <span style=\"font-weight: bold\">URI:</span> ray://raytestmar2k-head-svc.default.svc:10001                │ \n",
       " │                                                                     │ \n",
       " │   <a href=\"https://ray-dashboard-raytestmar2k-default.apps.rosa.chris-aisrhods.xb4x.p3.openshiftapps.com\" target=\"_blank\"><span style=\"color: #000080; text-decoration-color: #000080; text-decoration: underline\">Dashboard🔗</span></a>                                                       │ \n",
       " │                                                                     │ \n",
       " │  <span style=\"font-style: italic\">                     Cluster Resources                     </span>        │ \n",
       " │   ╭── Workers ──╮  ╭───────── Worker specs(each) ─────────╮         │ \n",
       " │   │ <span style=\"font-weight: bold\"> # Workers </span> │  │ <span style=\"font-weight: bold\"> Memory      CPU         GPU        </span> │         │ \n",
       " │   │ <span style=\"color: #800080; text-decoration-color: #800080\">           </span> │  │ <span style=\"color: #008080; text-decoration-color: #008080\">            </span><span style=\"color: #800080; text-decoration-color: #800080\">                        </span> │         │ \n",
       " │   │ <span style=\"color: #800080; text-decoration-color: #800080\"> 1         </span> │  │ <span style=\"color: #008080; text-decoration-color: #008080\"> 2G~2G      </span><span style=\"color: #800080; text-decoration-color: #800080\"> 1           0          </span> │         │ \n",
       " │   │ <span style=\"color: #800080; text-decoration-color: #800080\">           </span> │  │ <span style=\"color: #008080; text-decoration-color: #008080\">            </span><span style=\"color: #800080; text-decoration-color: #800080\">                        </span> │         │ \n",
       " │   ╰─────────────╯  ╰──────────────────────────────────────╯         │ \n",
       " ╰─────────────────────────────────────────────────────────────────────╯ \n",
       "</pre>\n"
      ],
      "text/plain": [
       "\u001b[3m                    \u001b[0m\u001b[1;3m 🚀 CodeFlare Cluster Details 🚀\u001b[0m\u001b[3m                     \u001b[0m\n",
       "\u001b[1m \u001b[0m\u001b[1m                                                                       \u001b[0m\u001b[1m \u001b[0m\n",
       " ╭─────────────────────────────────────────────────────────────────────╮ \n",
       " │   \u001b[1;37;42mName\u001b[0m                                                              │ \n",
       " │   \u001b[1;4mraytestmar2k\u001b[0m                                        Inactive ❌   │ \n",
       " │                                                                     │ \n",
       " │   \u001b[1mURI:\u001b[0m ray://raytestmar2k-head-svc.default.svc:10001                │ \n",
       " │                                                                     │ \n",
       " │   \u001b]8;id=601715;https://ray-dashboard-raytestmar2k-default.apps.rosa.chris-aisrhods.xb4x.p3.openshiftapps.com\u001b\\\u001b[4;34mDashboard🔗\u001b[0m\u001b]8;;\u001b\\                                                       │ \n",
       " │                                                                     │ \n",
       " │  \u001b[3m                     Cluster Resources                     \u001b[0m        │ \n",
       " │   ╭── Workers ──╮  ╭───────── Worker specs(each) ─────────╮         │ \n",
       " │   │ \u001b[1m \u001b[0m\u001b[1m# Workers\u001b[0m\u001b[1m \u001b[0m │  │ \u001b[1m \u001b[0m\u001b[1mMemory    \u001b[0m\u001b[1m \u001b[0m\u001b[1m \u001b[0m\u001b[1mCPU       \u001b[0m\u001b[1m \u001b[0m\u001b[1m \u001b[0m\u001b[1mGPU       \u001b[0m\u001b[1m \u001b[0m │         │ \n",
       " │   │ \u001b[35m \u001b[0m\u001b[35m         \u001b[0m\u001b[35m \u001b[0m │  │ \u001b[36m \u001b[0m\u001b[36m          \u001b[0m\u001b[36m \u001b[0m\u001b[35m \u001b[0m\u001b[35m          \u001b[0m\u001b[35m \u001b[0m\u001b[35m \u001b[0m\u001b[35m          \u001b[0m\u001b[35m \u001b[0m │         │ \n",
       " │   │ \u001b[35m \u001b[0m\u001b[35m1        \u001b[0m\u001b[35m \u001b[0m │  │ \u001b[36m \u001b[0m\u001b[36m2G~2G     \u001b[0m\u001b[36m \u001b[0m\u001b[35m \u001b[0m\u001b[35m1         \u001b[0m\u001b[35m \u001b[0m\u001b[35m \u001b[0m\u001b[35m0         \u001b[0m\u001b[35m \u001b[0m │         │ \n",
       " │   │ \u001b[35m \u001b[0m\u001b[35m         \u001b[0m\u001b[35m \u001b[0m │  │ \u001b[36m \u001b[0m\u001b[36m          \u001b[0m\u001b[36m \u001b[0m\u001b[35m \u001b[0m\u001b[35m          \u001b[0m\u001b[35m \u001b[0m\u001b[35m \u001b[0m\u001b[35m          \u001b[0m\u001b[35m \u001b[0m │         │ \n",
       " │   ╰─────────────╯  ╰──────────────────────────────────────╯         │ \n",
       " ╰─────────────────────────────────────────────────────────────────────╯ \n"
      ]
     },
     "metadata": {},
     "output_type": "display_data"
    },
    {
     "data": {
      "text/plain": [
       "RayCluster(name='raytestmar2k', status=<CodeFlareClusterStatus.FAILED: 5>, head_cpus=2, head_mem='8G', workers=1, worker_mem_min='2G', worker_mem_max='2G', worker_cpu=1, namespace='default', dashboard='https://ray-dashboard-raytestmar2k-default.apps.rosa.chris-aisrhods.xb4x.p3.openshiftapps.com', worker_extended_resources={}, head_extended_resources={})"
      ]
     },
     "execution_count": 14,
     "metadata": {},
     "output_type": "execute_result"
    }
   ],
   "source": [
    "cluster.details()"
   ]
  },
  {
   "cell_type": "code",
   "execution_count": null,
   "id": "9dda874b",
   "metadata": {},
   "outputs": [],
   "source": [
    "def format_status(status):\n",
    "    if status == \"Ready\":\n",
    "        return '<span style=\"color: green;\">Ready ✓</span>'\n",
    "    elif status == \"Suspended\":\n",
    "        return '<span style=\"color: orange;\">Suspended ~</span>'\n",
    "    elif status == \"Starting\":\n",
    "        return '<span style=\"color: purple;\">Starting ⌛</span>'\n",
    "    elif status == \"Failed\":\n",
    "        return '<span style=\"color: red;\">Failed ✗</span>'\n",
    "    else:\n",
    "        return status\n",
    "\n",
    "import ipywidgets as widgets\n",
    "import pandas as pd\n",
    "from IPython.display import display, HTML\n",
    "data = {\n",
    "    \"name\": [\"RayTest1\", \"RayTest2\", \"RayTest3\", \"RayTest4\"],\n",
    "    \"namespace\": [\"default\", \"usernamespace\", \"usernamespace\", \"usernamespace\"],\n",
    "    \"head_gpu\": [0, 1, 2, 0],\n",
    "    \"worker_gpu\": [2, 0, 1, 0],\n",
    "    \"min_memory\": [2, 4, 4, 2],\n",
    "    \"max_memory\": [2, 4, 8, 4],\n",
    "    \"min_cpu\": [1, 2, 4, 2],\n",
    "    \"max_cpu\": [1, 4, 8, 2],\n",
    "    \"status\": [\"Ready\", \"Starting\", \"Suspended\", \"Failed\"],\n",
    "    \"pods\": [\n",
    "        [{\"pod\": \"head\", \"name\": \"head-raytest1\", \"status\": \"Ready\"}, {\"pod\": \"worker\", \"name\": \"worker-raytest1-a\", \"status\": \"Ready\"}, {\"pod\": \"worker\", \"name\": \"worker-raytest1-b\", \"status\": \"Ready\"}],\n",
    "        [{\"pod\": \"head\", \"name\": \"head-raytest2\", \"status\": \"Ready\"}, {\"pod\": \"worker\", \"name\": \"worker-raytest2a\", \"status\": \"Starting\"}],\n",
    "        [{\"pod\": \"head\", \"name\": \"head-raytest3\", \"status\": \"Suspended\"}, {\"pod\": \"worker\", \"name\": \"worker-raytest3a\", \"status\": \"Suspended\"}],\n",
    "        [{\"pod\": \"head\", \"name\": \"head-raytest4\", \"status\": \"Failed\"}, {\"pod\": \"worker\", \"name\": \"worker-raytest4a\", \"status\": \"Failed\"}]\n",
    "    ]\n",
    "}\n",
    "df = pd.DataFrame(data)\n",
    "\n",
    "# format to add icons\n",
    "df['status'] = df['status'].apply(format_status)\n",
    "\n",
    "my_output = widgets.Output()\n",
    "my_output\n",
    "classification_widget = widgets.ToggleButtons(\n",
    "    options=['RayTest1', \"RayTest2\", \"RayTest3\", \"RayTest4\"],\n",
    "    description='Select an existing cluster:',\n",
    ")\n",
    "\n",
    "def on_click(change):\n",
    "    new_value = change[\"new\"]\n",
    "    my_output.clear_output()\n",
    "    with my_output:\n",
    "        selected_data = df[df[\"name\"] == new_value]\n",
    "        main_table = selected_data[[\"name\", \"namespace\", \"head_gpu\", \"worker_gpu\", \"min_memory\", \"max_memory\", \"min_cpu\", \"max_cpu\", \"status\"]].to_html(escape=False, index=False)\n",
    "        pod_rows = \"\"\n",
    "        for pod in selected_data[\"pods\"].values[0]:\n",
    "            pod_rows += f'<tr><td>{pod[\"pod\"]}</td><td>{pod[\"name\"]}</td><td>{format_status(pod[\"status\"])}</td></tr>'\n",
    "        pods_table = f'<div style=\"border:1px solid black; margin-top: 10px; margin-left: 10px; display: inline-block;\"><table><tr><th>Pod</th><th>Name</th><th>Status</th></tr>{pod_rows}</table></div>'\n",
    "        display(HTML(f'<div style=\"border:1px solid black; display: inline-block; padding-bottom: 10px;\">{main_table}{pods_table}</div>'))\n",
    "\n",
    "classification_widget.observe(on_click, names=\"value\")\n",
    "display(widgets.VBox([classification_widget, my_output]))\n",
    "\n",
    "\n",
    "list_jobs_button = widgets.Button(\n",
    "            description='View Jobs',\n",
    "            icon='suitcase'\n",
    "        )\n",
    "delete_button = widgets.Button(\n",
    "            description='Delete Cluster',\n",
    "            icon='trash'\n",
    "        )\n",
    "ray_dashboard_button = widgets.Button(\n",
    "            description='Open Ray Dashboard',\n",
    "            icon='dashboard',\n",
    "            layout=widgets.Layout(width='auto'),\n",
    "        )\n",
    "view_yaml_button = widgets.Button(\n",
    "            description='View YAML',\n",
    "            icon='file'\n",
    "        )\n",
    "display(widgets.HBox([delete_button, list_jobs_button, view_yaml_button, ray_dashboard_button]))"
   ]
  },
  {
   "cell_type": "markdown",
   "id": "b3a55fe4",
   "metadata": {},
   "source": [
    "Let's quickly verify that the specs of the cluster are as expected."
   ]
  },
  {
   "cell_type": "code",
   "execution_count": null,
   "id": "6f1ab7ff",
   "metadata": {},
   "outputs": [],
   "source": [
    "with my_output:\n",
    "    display(cluster.details())"
   ]
  },
  {
   "cell_type": "code",
   "execution_count": null,
   "id": "7fd45bc5-03c0-4ae5-9ec5-dd1c30f1a084",
   "metadata": {},
   "outputs": [],
   "source": [
    "from IPython.display import HTML, display\n",
    "import ipywidgets as widgets\n",
    "\n",
    "def on_click(change):\n",
    "    new_value = change[\"new\"]\n",
    "    my_output.clear_output()\n",
    "    with my_output:\n",
    "        display(HTML(f'<div style=\"border:1px solid black;\">{df[df[\"name\"]==new_value][[\"name\", \"namespace\", \"head_gpu\", \"worker_gpu\", \"min_memory\", \"max_memory\", \"min_cpu\", \"max_cpu\", \"status\"]].to_html(escape=False, index=False)}</div>'))\n",
    "\n",
    "classification_widget.observe(on_click, names=\"value\")\n",
    "display(widgets.VBox([classification_widget, my_output], layout=widgets.Layout(border='2px solid black')))\n",
    "\n",
    "list_jobs_button = widgets.Button(description='View Jobs', icon='suitcase')\n",
    "delete_button = widgets.Button(description='Delete Cluster', icon='trash')\n",
    "ray_dashboard_button = widgets.Button(description='Open Ray Dashboard', icon='dashboard', layout=widgets.Layout(width='auto'))\n",
    "view_yaml_button = widgets.Button(description='View YAML', icon='file')\n",
    "buttons_container = widgets.HBox([delete_button, list_jobs_button, view_yaml_button, ray_dashboard_button], layout=widgets.Layout(border='2px solid black'))\n",
    "\n",
    "display(buttons_container)\n",
    "\n"
   ]
  },
  {
   "cell_type": "markdown",
   "id": "5af8cd32",
   "metadata": {},
   "source": [
    "Finally, we bring our resource cluster down and release/terminate the associated resources, bringing everything back to the way it was before our cluster was brought up."
   ]
  },
  {
   "cell_type": "code",
   "execution_count": null,
   "id": "5f36db0f-31f6-4373-9503-dc3c1c4c3f57",
   "metadata": {},
   "outputs": [],
   "source": [
    "cluster.down()"
   ]
  },
  {
   "cell_type": "code",
   "execution_count": null,
   "id": "0d41b90e",
   "metadata": {},
   "outputs": [],
   "source": [
    "auth.logout()"
   ]
  }
 ],
 "metadata": {
  "kernelspec": {
   "display_name": "Python 3 (ipykernel)",
   "language": "python",
   "name": "python3"
  },
  "language_info": {
   "codemirror_mode": {
    "name": "ipython",
    "version": 3
   },
   "file_extension": ".py",
   "mimetype": "text/x-python",
   "name": "python",
   "nbconvert_exporter": "python",
   "pygments_lexer": "ipython3",
   "version": "3.9.18"
  },
  "vscode": {
   "interpreter": {
    "hash": "f9f85f796d01129d0dd105a088854619f454435301f6ffec2fea96ecbd9be4ac"
   }
  }
 },
 "nbformat": 4,
 "nbformat_minor": 5
}
